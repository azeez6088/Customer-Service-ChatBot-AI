{
  "nbformat": 4,
  "nbformat_minor": 0,
  "metadata": {
    "colab": {
      "provenance": [],
      "authorship_tag": "ABX9TyMJF5JAwwwUYib0fWopQkAI",
      "include_colab_link": true
    },
    "kernelspec": {
      "name": "python3",
      "display_name": "Python 3"
    },
    "language_info": {
      "name": "python"
    }
  },
  "cells": [
    {
      "cell_type": "markdown",
      "metadata": {
        "id": "view-in-github",
        "colab_type": "text"
      },
      "source": [
        "<a href=\"https://colab.research.google.com/github/azeez6088/Customer-Service-ChatBot-AI/blob/main/NLP_(1).ipynb\" target=\"_parent\"><img src=\"https://colab.research.google.com/assets/colab-badge.svg\" alt=\"Open In Colab\"/></a>"
      ]
    },
    {
      "cell_type": "code",
      "execution_count": 1,
      "metadata": {
        "colab": {
          "base_uri": "https://localhost:8080/"
        },
        "id": "CHZkBELaccoB",
        "outputId": "77eb2469-a1f6-46dd-b918-fad3647dd45a"
      },
      "outputs": [
        {
          "output_type": "stream",
          "name": "stdout",
          "text": [
            "Requirement already satisfied: nltk in /usr/local/lib/python3.10/dist-packages (3.8.1)\n",
            "Requirement already satisfied: click in /usr/local/lib/python3.10/dist-packages (from nltk) (8.1.7)\n",
            "Requirement already satisfied: joblib in /usr/local/lib/python3.10/dist-packages (from nltk) (1.4.2)\n",
            "Requirement already satisfied: regex>=2021.8.3 in /usr/local/lib/python3.10/dist-packages (from nltk) (2024.5.15)\n",
            "Requirement already satisfied: tqdm in /usr/local/lib/python3.10/dist-packages (from nltk) (4.66.4)\n"
          ]
        }
      ],
      "source": [
        "pip install nltk"
      ]
    },
    {
      "cell_type": "code",
      "source": [
        "paragraph = \"\"\"\n",
        "Elon Reeve Musk (/ˈiːlɒn/; born June 28, 1971) is a businessman and investor known for his key roles in space company SpaceX and automotive company Tesla, Inc. Other involvements include ownership of X Corp., formerly Twitter, and his role in the founding of The Boring Company, xAI, Neuralink and OpenAI. He is one of the wealthiest people in the world; as of June 2024, Forbes estimates his net worth to be US\n",
        "307 million in 1999. That same year, Musk co-founded X.com, a direct bank. X.com merged with Confinity in 2000 to form PayPal. In October 2002, eBay acquired PayPal for\n",
        "100 million of the money he made from the sale of PayPal, Musk founded SpaceX, a spaceflight services company, in 2002.\n",
        "\"\"\""
      ],
      "metadata": {
        "id": "TZUBo2awcynN"
      },
      "execution_count": 2,
      "outputs": []
    },
    {
      "cell_type": "code",
      "source": [
        "import nltk\n",
        "from nltk.stem import PorterStemmer\n",
        "from nltk.corpus import stopwords"
      ],
      "metadata": {
        "id": "eBe35_SaczVy"
      },
      "execution_count": 3,
      "outputs": []
    },
    {
      "cell_type": "code",
      "source": [
        "nltk.download('punkt')"
      ],
      "metadata": {
        "colab": {
          "base_uri": "https://localhost:8080/"
        },
        "id": "DW5SSfe5c1xz",
        "outputId": "559b23bc-7808-411b-ce79-7dd614d90da4"
      },
      "execution_count": 4,
      "outputs": [
        {
          "output_type": "stream",
          "name": "stderr",
          "text": [
            "[nltk_data] Downloading package punkt to /root/nltk_data...\n",
            "[nltk_data]   Unzipping tokenizers/punkt.zip.\n"
          ]
        },
        {
          "output_type": "execute_result",
          "data": {
            "text/plain": [
              "True"
            ]
          },
          "metadata": {},
          "execution_count": 4
        }
      ]
    },
    {
      "cell_type": "code",
      "source": [
        "sentence = nltk.sent_tokenize(paragraph)"
      ],
      "metadata": {
        "id": "BhpxCIFQdJt8"
      },
      "execution_count": 5,
      "outputs": []
    },
    {
      "cell_type": "code",
      "source": [
        "type(sentence)"
      ],
      "metadata": {
        "colab": {
          "base_uri": "https://localhost:8080/"
        },
        "id": "KKfnlEm1dM-A",
        "outputId": "7bdc024b-02d1-4a2c-da84-0da925431a25"
      },
      "execution_count": 6,
      "outputs": [
        {
          "output_type": "execute_result",
          "data": {
            "text/plain": [
              "list"
            ]
          },
          "metadata": {},
          "execution_count": 6
        }
      ]
    },
    {
      "cell_type": "code",
      "source": [
        "print(sentence)"
      ],
      "metadata": {
        "colab": {
          "base_uri": "https://localhost:8080/"
        },
        "id": "MVz0urMXdQBr",
        "outputId": "282337bb-8b26-4d7c-9d88-69686621e27d"
      },
      "execution_count": 7,
      "outputs": [
        {
          "output_type": "stream",
          "name": "stdout",
          "text": [
            "['\\nElon Reeve Musk (/ˈiːlɒn/; born June 28, 1971) is a businessman and investor known for his key roles in space company SpaceX and automotive company Tesla, Inc. Other involvements include ownership of X Corp., formerly Twitter, and his role in the founding of The Boring Company, xAI, Neuralink and OpenAI.', 'He is one of the wealthiest people in the world; as of June 2024, Forbes estimates his net worth to be US\\n307 million in 1999.', 'That same year, Musk co-founded X.com, a direct bank.', 'X.com merged with Confinity in 2000 to form PayPal.', 'In October 2002, eBay acquired PayPal for \\n100 million of the money he made from the sale of PayPal, Musk founded SpaceX, a spaceflight services company, in 2002.']\n"
          ]
        }
      ]
    },
    {
      "cell_type": "code",
      "source": [
        "stemmer = PorterStemmer()\n",
        "stemmer.stem('acquiring')"
      ],
      "metadata": {
        "colab": {
          "base_uri": "https://localhost:8080/",
          "height": 35
        },
        "id": "9vG4Q5_9dXlk",
        "outputId": "c24c584c-a568-4f08-8888-0665426c0b86"
      },
      "execution_count": 8,
      "outputs": [
        {
          "output_type": "execute_result",
          "data": {
            "text/plain": [
              "'acquir'"
            ],
            "application/vnd.google.colaboratory.intrinsic+json": {
              "type": "string"
            }
          },
          "metadata": {},
          "execution_count": 8
        }
      ]
    },
    {
      "cell_type": "code",
      "source": [
        "nltk.download('wordnet')"
      ],
      "metadata": {
        "colab": {
          "base_uri": "https://localhost:8080/"
        },
        "id": "EHZ5kFfNdoDe",
        "outputId": "67a8bcc8-88e0-46a8-81af-6efda2b04829"
      },
      "execution_count": 9,
      "outputs": [
        {
          "output_type": "stream",
          "name": "stderr",
          "text": [
            "[nltk_data] Downloading package wordnet to /root/nltk_data...\n"
          ]
        },
        {
          "output_type": "execute_result",
          "data": {
            "text/plain": [
              "True"
            ]
          },
          "metadata": {},
          "execution_count": 9
        }
      ]
    },
    {
      "cell_type": "code",
      "source": [
        "from nltk.stem import WordNetLemmatizer\n",
        "lemmatizer = WordNetLemmatizer()\n",
        "lemmatizer.lemmatize('goes')"
      ],
      "metadata": {
        "colab": {
          "base_uri": "https://localhost:8080/",
          "height": 35
        },
        "id": "DFi9A_wvdtaP",
        "outputId": "982c1751-6c57-4c64-9419-ebb000114149"
      },
      "execution_count": 10,
      "outputs": [
        {
          "output_type": "execute_result",
          "data": {
            "text/plain": [
              "'go'"
            ],
            "application/vnd.google.colaboratory.intrinsic+json": {
              "type": "string"
            }
          },
          "metadata": {},
          "execution_count": 10
        }
      ]
    },
    {
      "cell_type": "code",
      "source": [
        "import re\n",
        "corpus = []\n",
        "for i in range(len(sentence)):\n",
        "  text = re.sub('[^a-zA-Z]',\" \", sentence[i])\n",
        "  text = text.lower()\n",
        "  corpus.append(text)\n",
        "corpus"
      ],
      "metadata": {
        "colab": {
          "base_uri": "https://localhost:8080/"
        },
        "id": "-0i_YRM6dvz5",
        "outputId": "00dbd54c-4567-4a10-ff5a-4b2a421e09da"
      },
      "execution_count": 11,
      "outputs": [
        {
          "output_type": "execute_result",
          "data": {
            "text/plain": [
              "[' elon reeve musk    i l n   born june           is a businessman and investor known for his key roles in space company spacex and automotive company tesla  inc  other involvements include ownership of x corp   formerly twitter  and his role in the founding of the boring company  xai  neuralink and openai ',\n",
              " 'he is one of the wealthiest people in the world  as of june       forbes estimates his net worth to be us     million in      ',\n",
              " 'that same year  musk co founded x com  a direct bank ',\n",
              " 'x com merged with confinity in      to form paypal ',\n",
              " 'in october       ebay acquired paypal for      million of the money he made from the sale of paypal  musk founded spacex  a spaceflight services company  in      ']"
            ]
          },
          "metadata": {},
          "execution_count": 11
        }
      ]
    },
    {
      "cell_type": "code",
      "source": [
        "nltk.download('stopwords')"
      ],
      "metadata": {
        "colab": {
          "base_uri": "https://localhost:8080/"
        },
        "id": "0c5PMjF6dzFu",
        "outputId": "50b6bb9c-d8e8-42e3-8d2c-4cf778c0f233"
      },
      "execution_count": 12,
      "outputs": [
        {
          "output_type": "stream",
          "name": "stderr",
          "text": [
            "[nltk_data] Downloading package stopwords to /root/nltk_data...\n",
            "[nltk_data]   Unzipping corpora/stopwords.zip.\n"
          ]
        },
        {
          "output_type": "execute_result",
          "data": {
            "text/plain": [
              "True"
            ]
          },
          "metadata": {},
          "execution_count": 12
        }
      ]
    },
    {
      "cell_type": "code",
      "source": [
        "for i in corpus:\n",
        "  words = nltk.word_tokenize(i)\n",
        "  for word in words:\n",
        "    if word not in set(stopwords.words('english')):\n",
        "      print(stemmer.stem(word))"
      ],
      "metadata": {
        "colab": {
          "base_uri": "https://localhost:8080/"
        },
        "id": "vHrMICo7d3sw",
        "outputId": "85e9b84c-4b66-4aa5-d2f7-4f1ec71938e0"
      },
      "execution_count": 13,
      "outputs": [
        {
          "output_type": "stream",
          "name": "stdout",
          "text": [
            "elon\n",
            "reev\n",
            "musk\n",
            "l\n",
            "n\n",
            "born\n",
            "june\n",
            "businessman\n",
            "investor\n",
            "known\n",
            "key\n",
            "role\n",
            "space\n",
            "compani\n",
            "spacex\n",
            "automot\n",
            "compani\n",
            "tesla\n",
            "inc\n",
            "involv\n",
            "includ\n",
            "ownership\n",
            "x\n",
            "corp\n",
            "formerli\n",
            "twitter\n",
            "role\n",
            "found\n",
            "bore\n",
            "compani\n",
            "xai\n",
            "neuralink\n",
            "openai\n",
            "one\n",
            "wealthiest\n",
            "peopl\n",
            "world\n",
            "june\n",
            "forb\n",
            "estim\n",
            "net\n",
            "worth\n",
            "us\n",
            "million\n",
            "year\n",
            "musk\n",
            "co\n",
            "found\n",
            "x\n",
            "com\n",
            "direct\n",
            "bank\n",
            "x\n",
            "com\n",
            "merg\n",
            "confin\n",
            "form\n",
            "paypal\n",
            "octob\n",
            "ebay\n",
            "acquir\n",
            "paypal\n",
            "million\n",
            "money\n",
            "made\n",
            "sale\n",
            "paypal\n",
            "musk\n",
            "found\n",
            "spacex\n",
            "spaceflight\n",
            "servic\n",
            "compani\n"
          ]
        }
      ]
    },
    {
      "cell_type": "code",
      "source": [
        "from sklearn.feature_extraction.text import CountVectorizer\n",
        "cv = CountVectorizer()\n",
        "x = cv.fit_transform(corpus)\n",
        "cv.vocabulary_"
      ],
      "metadata": {
        "colab": {
          "base_uri": "https://localhost:8080/"
        },
        "id": "33Z_4FlUd51I",
        "outputId": "37d93057-6f9a-4671-be25-75a34aaed89e"
      },
      "execution_count": 14,
      "outputs": [
        {
          "output_type": "execute_result",
          "data": {
            "text/plain": [
              "{'elon': 16,\n",
              " 'reeve': 51,\n",
              " 'musk': 40,\n",
              " 'born': 7,\n",
              " 'june': 33,\n",
              " 'is': 32,\n",
              " 'businessman': 8,\n",
              " 'and': 1,\n",
              " 'investor': 30,\n",
              " 'known': 35,\n",
              " 'for': 18,\n",
              " 'his': 26,\n",
              " 'key': 34,\n",
              " 'roles': 53,\n",
              " 'in': 27,\n",
              " 'space': 57,\n",
              " 'company': 11,\n",
              " 'spacex': 59,\n",
              " 'automotive': 3,\n",
              " 'tesla': 60,\n",
              " 'inc': 28,\n",
              " 'other': 47,\n",
              " 'involvements': 31,\n",
              " 'include': 29,\n",
              " 'ownership': 48,\n",
              " 'of': 44,\n",
              " 'corp': 13,\n",
              " 'formerly': 21,\n",
              " 'twitter': 64,\n",
              " 'role': 52,\n",
              " 'the': 62,\n",
              " 'founding': 23,\n",
              " 'boring': 6,\n",
              " 'xai': 70,\n",
              " 'neuralink': 42,\n",
              " 'openai': 46,\n",
              " 'he': 25,\n",
              " 'one': 45,\n",
              " 'wealthiest': 66,\n",
              " 'people': 50,\n",
              " 'world': 68,\n",
              " 'as': 2,\n",
              " 'forbes': 19,\n",
              " 'estimates': 17,\n",
              " 'net': 41,\n",
              " 'worth': 69,\n",
              " 'to': 63,\n",
              " 'be': 5,\n",
              " 'us': 65,\n",
              " 'million': 38,\n",
              " 'that': 61,\n",
              " 'same': 55,\n",
              " 'year': 71,\n",
              " 'co': 9,\n",
              " 'founded': 22,\n",
              " 'com': 10,\n",
              " 'direct': 14,\n",
              " 'bank': 4,\n",
              " 'merged': 37,\n",
              " 'with': 67,\n",
              " 'confinity': 12,\n",
              " 'form': 20,\n",
              " 'paypal': 49,\n",
              " 'october': 43,\n",
              " 'ebay': 15,\n",
              " 'acquired': 0,\n",
              " 'money': 39,\n",
              " 'made': 36,\n",
              " 'from': 24,\n",
              " 'sale': 54,\n",
              " 'spaceflight': 58,\n",
              " 'services': 56}"
            ]
          },
          "metadata": {},
          "execution_count": 14
        }
      ]
    },
    {
      "cell_type": "code",
      "source": [
        "\"Term Frequency - Inverse Document Frequency\"\n",
        "from sklearn.feature_extraction.text import TfidfVectorizer\n",
        "corpus = [\n",
        "    \"I love machine learning\",\n",
        "    \"Machine learning is fun\",\n",
        "    \"I enjoy learning new things\",\n",
        "    \"Natural language processing is a part of machine learning\"\n",
        "]\n",
        "\n",
        "v = TfidfVectorizer()\n",
        "result = v.fit_transform(corpus)\n",
        "print(v.vocabulary_)"
      ],
      "metadata": {
        "colab": {
          "base_uri": "https://localhost:8080/"
        },
        "id": "ZWJNHvNLeG52",
        "outputId": "c453d543-89b4-479f-c06d-f54687c4318b"
      },
      "execution_count": 16,
      "outputs": [
        {
          "output_type": "stream",
          "name": "stdout",
          "text": [
            "{'love': 5, 'machine': 6, 'learning': 4, 'is': 2, 'fun': 1, 'enjoy': 0, 'new': 8, 'things': 12, 'natural': 7, 'language': 3, 'processing': 11, 'part': 10, 'of': 9}\n"
          ]
        }
      ]
    },
    {
      "cell_type": "code",
      "source": [
        "print(result)"
      ],
      "metadata": {
        "colab": {
          "base_uri": "https://localhost:8080/"
        },
        "id": "A7Yp95Y5eWWG",
        "outputId": "b9e4f60d-a6c7-44e7-a321-d3f34e540278"
      },
      "execution_count": 17,
      "outputs": [
        {
          "output_type": "stream",
          "name": "stdout",
          "text": [
            "  (0, 4)\t0.40264193560603856\n",
            "  (0, 6)\t0.4924888870251974\n",
            "  (0, 5)\t0.7715790094657221\n",
            "  (1, 1)\t0.6591911178676787\n",
            "  (1, 2)\t0.5197138488789809\n",
            "  (1, 4)\t0.3439932714296342\n",
            "  (1, 6)\t0.42075315164463567\n",
            "  (2, 12)\t0.5528053199908667\n",
            "  (2, 8)\t0.5528053199908667\n",
            "  (2, 0)\t0.5528053199908667\n",
            "  (2, 4)\t0.2884767487500274\n",
            "  (3, 9)\t0.3983677555530427\n",
            "  (3, 10)\t0.3983677555530427\n",
            "  (3, 11)\t0.3983677555530427\n",
            "  (3, 3)\t0.3983677555530427\n",
            "  (3, 7)\t0.3983677555530427\n",
            "  (3, 2)\t0.314077714180172\n",
            "  (3, 4)\t0.20788482088176377\n",
            "  (3, 6)\t0.25427297807763893\n"
          ]
        }
      ]
    },
    {
      "cell_type": "code",
      "source": [
        "all_feature_names = v.get_feature_names_out()\n",
        "for word in all_feature_names:\n",
        "  indx= v.vocabulary_.get(word)\n",
        "  idf_score = v.idf_[indx]\n",
        "  print(f\"{word} {idf_score}\")"
      ],
      "metadata": {
        "colab": {
          "base_uri": "https://localhost:8080/"
        },
        "id": "hMjaYCU6eeIF",
        "outputId": "82bbca0f-e96a-4c88-e472-46cf3f2de3e2"
      },
      "execution_count": 18,
      "outputs": [
        {
          "output_type": "stream",
          "name": "stdout",
          "text": [
            "enjoy 1.916290731874155\n",
            "fun 1.916290731874155\n",
            "is 1.5108256237659907\n",
            "language 1.916290731874155\n",
            "learning 1.0\n",
            "love 1.916290731874155\n",
            "machine 1.2231435513142097\n",
            "natural 1.916290731874155\n",
            "new 1.916290731874155\n",
            "of 1.916290731874155\n",
            "part 1.916290731874155\n",
            "processing 1.916290731874155\n",
            "things 1.916290731874155\n"
          ]
        }
      ]
    },
    {
      "cell_type": "code",
      "source": [],
      "metadata": {
        "id": "gCrusFvsehRX"
      },
      "execution_count": null,
      "outputs": []
    }
  ]
}